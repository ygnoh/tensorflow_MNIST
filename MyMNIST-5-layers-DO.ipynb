{
 "cells": [
  {
   "cell_type": "markdown",
   "metadata": {},
   "source": [
    "#### Import Libraries"
   ]
  },
  {
   "cell_type": "code",
   "execution_count": 1,
   "metadata": {
    "collapsed": true
   },
   "outputs": [],
   "source": [
    "import tensorflow as tf\n",
    "import numpy as np\n",
    "from tensorflow.examples.tutorials.mnist import input_data\n",
    "import matplotlib.pyplot as plt"
   ]
  },
  {
   "cell_type": "markdown",
   "metadata": {},
   "source": [
    "#### MNIST 데이터 읽어오기"
   ]
  },
  {
   "cell_type": "code",
   "execution_count": 2,
   "metadata": {},
   "outputs": [
    {
     "name": "stdout",
     "output_type": "stream",
     "text": [
      "Extracting MNIST_data/train-images-idx3-ubyte.gz\n",
      "Extracting MNIST_data/train-labels-idx1-ubyte.gz\n",
      "Extracting MNIST_data/t10k-images-idx3-ubyte.gz\n",
      "Extracting MNIST_data/t10k-labels-idx1-ubyte.gz\n"
     ]
    }
   ],
   "source": [
    "mnist = input_data.read_data_sets('MNIST_data/', one_hot=True)"
   ]
  },
  {
   "cell_type": "markdown",
   "metadata": {},
   "source": [
    "#### 변수 선언 및 초기화\n",
    "- xavier를 이용하여 변수 초기화"
   ]
  },
  {
   "cell_type": "code",
   "execution_count": 3,
   "metadata": {
    "collapsed": true
   },
   "outputs": [],
   "source": [
    "learning_rate = 0.001\n",
    "num_epochs = 15\n",
    "batch_size = 100\n",
    "keep_prob = tf.placeholder(tf.float32)\n",
    "\n",
    "x = tf.placeholder(tf.float32, [None, 784])\n",
    "y = tf.placeholder(tf.float32, [None, 10])\n",
    "\n",
    "W1 = tf.get_variable(\"W1\", shape=[784, 392], initializer=tf.contrib.layers.xavier_initializer())\n",
    "b1 = tf.Variable(tf.random_normal([392]))\n",
    "L1 = tf.nn.relu(tf.matmul(x, W1) + b1)\n",
    "\n",
    "W2 = tf.get_variable(\"W2\", shape=[392, 392], initializer=tf.contrib.layers.xavier_initializer())\n",
    "b2 = tf.Variable(tf.random_normal([392]))\n",
    "L2 = tf.nn.relu(tf.matmul(L1, W2) + b2)\n",
    "\n",
    "W3 = tf.get_variable(\"W3\", shape=[392, 392], initializer=tf.contrib.layers.xavier_initializer())\n",
    "b3 = tf.Variable(tf.random_normal([392]))\n",
    "L3 = tf.nn.relu(tf.matmul(L2, W3) + b3)\n",
    "\n",
    "W4 = tf.get_variable(\"W4\", shape=[392, 392], initializer=tf.contrib.layers.xavier_initializer())\n",
    "b4 = tf.Variable(tf.random_normal([392]))\n",
    "L4 = tf.nn.relu(tf.matmul(L3, W4) + b4)\n",
    "\n",
    "W5 = tf.get_variable(\"W5\", shape=[392, 10], initializer=tf.contrib.layers.xavier_initializer())\n",
    "b5 = tf.Variable(tf.random_normal([10]))\n",
    "\n",
    "y_ = tf.matmul(L4, W5) + b5"
   ]
  },
  {
   "cell_type": "markdown",
   "metadata": {},
   "source": [
    "#### Dropout\n",
    "- Dropout을 새로이 구성하여 비교"
   ]
  },
  {
   "cell_type": "code",
   "execution_count": 4,
   "metadata": {
    "collapsed": true
   },
   "outputs": [],
   "source": [
    "W1_DO = tf.get_variable(\"W1_DO\", shape=[784, 392], initializer=tf.contrib.layers.xavier_initializer())\n",
    "b1_DO = tf.Variable(tf.random_normal([392]))\n",
    "h1_DO = tf.nn.relu(tf.matmul(x, W1_DO) + b1_DO)\n",
    "L1_DO = tf.nn.dropout(h1_DO, keep_prob)\n",
    "\n",
    "W2_DO = tf.get_variable(\"W2_DO\", shape=[392, 392], initializer=tf.contrib.layers.xavier_initializer())\n",
    "b2_DO = tf.Variable(tf.random_normal([392]))\n",
    "h2_DO = tf.nn.relu(tf.matmul(L1_DO, W2_DO) + b2_DO)\n",
    "L2_DO = tf.nn.dropout(h2_DO, keep_prob)\n",
    "\n",
    "W3_DO = tf.get_variable(\"W3_DO\", shape=[392, 392], initializer=tf.contrib.layers.xavier_initializer())\n",
    "b3_DO = tf.Variable(tf.random_normal([392]))\n",
    "h3_DO = tf.nn.relu(tf.matmul(L2_DO, W3_DO) + b3_DO)\n",
    "L3_DO = tf.nn.dropout(h3_DO, keep_prob)\n",
    "\n",
    "W4_DO = tf.get_variable(\"W4_DO\", shape=[392, 392], initializer=tf.contrib.layers.xavier_initializer())\n",
    "b4_DO = tf.Variable(tf.random_normal([392]))\n",
    "h4_DO = tf.nn.relu(tf.matmul(L3_DO, W4_DO) + b4_DO)\n",
    "L4_DO = tf.nn.dropout(h4_DO, keep_prob)\n",
    "\n",
    "W5_DO = tf.get_variable(\"W5_DO\", shape=[392, 10], initializer=tf.contrib.layers.xavier_initializer())\n",
    "b5_DO = tf.Variable(tf.random_normal([10]))\n",
    "\n",
    "y_DO = tf.matmul(L4_DO, W5_DO) + b5_DO"
   ]
  },
  {
   "cell_type": "markdown",
   "metadata": {},
   "source": [
    "#### 정확도 평가 변수 선언"
   ]
  },
  {
   "cell_type": "code",
   "execution_count": 5,
   "metadata": {
    "collapsed": true
   },
   "outputs": [],
   "source": [
    "correct_prediction = tf.equal(tf.argmax(y_, 1), tf.argmax(y, 1))\n",
    "accuracy = tf.reduce_mean(tf.cast(correct_prediction, tf.float32))"
   ]
  },
  {
   "cell_type": "markdown",
   "metadata": {},
   "source": [
    "#### dropout 정확도 평가 변수 선언"
   ]
  },
  {
   "cell_type": "code",
   "execution_count": 6,
   "metadata": {
    "collapsed": true
   },
   "outputs": [],
   "source": [
    "correct_prediction_DO = tf.equal(tf.argmax(y_DO, 1), tf.argmax(y_, 1))\n",
    "accuracy_DO = tf.reduce_mean(tf.cast(correct_prediction_DO, tf.float32))"
   ]
  },
  {
   "cell_type": "markdown",
   "metadata": {},
   "source": [
    "#### cost 함수와 optimizer 정의\n",
    "- Gradient Descent Optimizer를 사용하였다."
   ]
  },
  {
   "cell_type": "code",
   "execution_count": 7,
   "metadata": {
    "collapsed": true
   },
   "outputs": [],
   "source": [
    "cost = tf.reduce_mean(tf.nn.softmax_cross_entropy_with_logits(labels=y, logits=y_))\n",
    "optimizer = tf.train.GradientDescentOptimizer(learning_rate).minimize(cost)"
   ]
  },
  {
   "cell_type": "code",
   "execution_count": 8,
   "metadata": {
    "collapsed": true
   },
   "outputs": [],
   "source": [
    "cost_DO = tf.reduce_mean(tf.nn.softmax_cross_entropy_with_logits(labels=y, logits=y_DO))\n",
    "optimizer_DO = tf.train.GradientDescentOptimizer(learning_rate).minimize(cost_DO)"
   ]
  },
  {
   "cell_type": "markdown",
   "metadata": {},
   "source": [
    "#### Session 시작 및 변수 초기화"
   ]
  },
  {
   "cell_type": "code",
   "execution_count": 9,
   "metadata": {
    "collapsed": true
   },
   "outputs": [],
   "source": [
    "sess = tf.Session()\n",
    "sess.run(tf.global_variables_initializer())"
   ]
  },
  {
   "cell_type": "markdown",
   "metadata": {},
   "source": [
    "#### 학습 시작"
   ]
  },
  {
   "cell_type": "code",
   "execution_count": 10,
   "metadata": {},
   "outputs": [
    {
     "name": "stdout",
     "output_type": "stream",
     "text": [
      "Epoch:  1 cost = 2.75032 - Dropout\n",
      "Epoch:  2 cost = 2.44191 - Dropout\n",
      "Epoch:  3 cost = 2.32475 - Dropout\n",
      "Epoch:  4 cost = 2.23223 - Dropout\n",
      "Epoch:  5 cost = 2.11533 - Dropout\n",
      "Epoch:  6 cost = 1.96807 - Dropout\n",
      "Epoch:  7 cost = 1.79057 - Dropout\n",
      "Epoch:  8 cost = 1.60703 - Dropout\n",
      "Epoch:  9 cost = 1.45264 - Dropout\n",
      "Epoch: 10 cost = 1.32681 - Dropout\n",
      "Epoch: 11 cost = 1.23954 - Dropout\n",
      "Epoch: 12 cost = 1.16139 - Dropout\n",
      "Epoch: 13 cost = 1.10020 - Dropout\n",
      "Epoch: 14 cost = 1.04488 - Dropout\n",
      "Epoch: 15 cost = 0.99835 - Dropout\n",
      "Accuracy: 0.1346\n"
     ]
    },
    {
     "data": {
      "image/png": "[encoded data removed]",
      "text/plain": [
       "<matplotlib.figure.Figure at 0x111b69f28>"
      ]
     },
     "metadata": {},
     "output_type": "display_data"
    }
   ],
   "source": [
    "for epoch in range(num_epochs):\n",
    "    avg_cost_DO = 0\n",
    "    total_batch = int(mnist.train.num_examples / batch_size)\n",
    "\n",
    "    for i in range(total_batch):\n",
    "        batch_xs, batch_ys = mnist.train.next_batch(batch_size)\n",
    "        c_DO = sess.run(cost_DO, feed_dict={x: batch_xs, y: batch_ys, keep_prob: 0.7})\n",
    "        sess.run(optimizer_DO, feed_dict={x: batch_xs, y: batch_ys, keep_prob: 0.7})\n",
    "        avg_cost_DO += c_DO / total_batch\n",
    "\n",
    "    print('Epoch: {:2d} cost = {:.5f} - Dropout'.format(epoch+1, avg_cost_DO))\n",
    "    plt.plot(epoch+1, avg_cost_DO, 'ro')\n",
    "    \n",
    "acc = sess.run(accuracy_DO, feed_dict={x: mnist.test.images, y: mnist.test.labels, keep_prob: 1})\n",
    "print('Accuracy:', acc)\n",
    "plt.gca().set_ylim([0, 3])\n",
    "plt.grid()\n",
    "plt.title(\"5 layers with Dropout - Accuracy: {:.5f}\".format(acc))\n",
    "plt.show()"
   ]
  },
  {
   "cell_type": "code",
   "execution_count": 11,
   "metadata": {
    "collapsed": true
   },
   "outputs": [],
   "source": [
    "sess.close()"
   ]
  }
 ],
 "metadata": {
  "kernelspec": {
   "display_name": "Python 3",
   "language": "python",
   "name": "python3"
  },
  "language_info": {
   "codemirror_mode": {
    "name": "ipython",
    "version": 3
   },
   "file_extension": ".py",
   "mimetype": "text/x-python",
   "name": "python",
   "nbconvert_exporter": "python",
   "pygments_lexer": "ipython3",
   "version": "3.5.2"
  }
 },
 "nbformat": 4,
 "nbformat_minor": 2
}
